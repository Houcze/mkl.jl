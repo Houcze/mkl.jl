{
 "cells": [
  {
   "cell_type": "code",
   "execution_count": null,
   "id": "42f752d4-f3a8-4cd4-97f5-6dec6c09dec9",
   "metadata": {},
   "outputs": [],
   "source": [
    "!wget \"https://julialang-s3.julialang.org/bin/linux/x64/1.9/julia-1.9.2-linux-x86_64.tar.gz\"\n",
    "!tar -xvf julia-1.9.2-linux-x86_64.tar.gz\n",
    "!cp -r julia-1.9.2/* /usr\n",
    "!apt-get update -y && apt install git\n",
    "!rm -rf /opt/mkl.jl && git clone https://github.com/Houcze/mkl.jl.git /opt/mkl.jl\n",
    "!cp -r /opt/mkl.jl/lib.ubuntu2004 lib\n",
    "!cp /opt/mkl.jl/mkl.jl . && cp /opt/mkl.jl/test_mkl.jl .\n",
    "# If you are using the Colab environment, please note that you need to manually add LD_LIBRARY_PATH.\n",
    "!LD_LIBRARY_PATH=$PWD/lib:$LD_LIBRARY_PATH && julia test_mkl.jl"
   ]
  }
 ],
 "metadata": {
  "kernelspec": {
   "display_name": "Python 3 (ipykernel)",
   "language": "python",
   "name": "python3"
  },
  "language_info": {
   "codemirror_mode": {
    "name": "ipython",
    "version": 3
   },
   "file_extension": ".py",
   "mimetype": "text/x-python",
   "name": "python",
   "nbconvert_exporter": "python",
   "pygments_lexer": "ipython3",
   "version": "3.9.13"
  }
 },
 "nbformat": 4,
 "nbformat_minor": 5
}
